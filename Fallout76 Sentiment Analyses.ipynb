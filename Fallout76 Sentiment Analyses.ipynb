{
 "cells": [
  {
   "cell_type": "markdown",
   "metadata": {},
   "source": [
    "### <p style=\"text-align: right;\"> &#9989; Nathan Kurt</p>"
   ]
  },
  {
   "cell_type": "markdown",
   "metadata": {},
   "source": [
    "# Using Sentiment Analysis On Fallout 76 Tweets\n",
    "\n",
    "A while back I was browsing Reddit and Youtube when I noticed that people really seem to hate Fallout 76. This didn't seem like some normal everyday hate, it seemed like this game had killed their Uncle Ben or something. I also remember seeing a lot of cool libraries for Twitter that can get data off of them and other libraries that can analyze the tweets. \n",
    "\n",
    "So I wanted to see if everyone on Twitter felt the same about Fallout 76 as the people with high klout on review sites, Reddit, and Youtube did. I ended up analyzing the data using a sentiment analysis and polarity scores to tell everything. "
   ]
  },
  {
   "cell_type": "code",
   "execution_count": 4,
   "metadata": {},
   "outputs": [],
   "source": [
    "import tweepy #A library that's pretty helpful for using the twitter API\n",
    "from os import environ #So i can grab env vars\n",
    "import re #re is the basic package used for RegEx stuff\n",
    "import numpy as np \n",
    "import pandas as pd\n",
    "#Basically a sentiment analyzer \n",
    "from textblob import TextBlob\n",
    "import glob #glob lets me, well, glob things together \n",
    "import matplotlib.pyplot as plt\n",
    "import datetime\n",
    "import matplotlib.dates as mdates"
   ]
  },
  {
   "cell_type": "code",
   "execution_count": 5,
   "metadata": {},
   "outputs": [
    {
     "name": "stdout",
     "output_type": "stream",
     "text": [
      "Sentiment(polarity=-0.1, subjectivity=0.2)\n",
      "Red Dead Redemption Control:  -0.1\n",
      "Fallout 76 Control:  0.0\n"
     ]
    }
   ],
   "source": [
    "testimonial = TextBlob(\"Red Dead Redemption\")\n",
    "print(testimonial.sentiment)\n",
    "print(\"Red Dead Redemption Control: \", testimonial.sentiment.polarity)\n",
    "fallout = TextBlob(\"Fallout 76\")\n",
    "print(\"Fallout 76 Control: \", fallout.sentiment.polarity)\n"
   ]
  },
  {
   "cell_type": "markdown",
   "metadata": {},
   "source": [
    "Using Red Dead as a control works, but I have to add .1 to the sentiment analysis because the word \"Dead\" in the title lowers things quite a bit and we want to make them both start out at neutral"
   ]
  },
  {
   "cell_type": "markdown",
   "metadata": {},
   "source": [
    "# The Clean but Expensive Way"
   ]
  },
  {
   "cell_type": "code",
   "execution_count": 6,
   "metadata": {},
   "outputs": [],
   "source": [
    "class TwitterClient(object):\n",
    "\n",
    "    def __init__(self):\n",
    "        #These are the keys needed to gather the data from the twitter api\n",
    "        #This only works on my system because the keys are in my environment, it won't work for everyone\n",
    "        consumer_key = environ['consumer_key_twitter']\n",
    "        consumer_key_secret = environ['consumer_secret_twitter']\n",
    "        access_token = environ['access_token_twitter']\n",
    "        access_token_secret = environ['access_token_secret_twitter']\n",
    "\n",
    "        try:\n",
    "            #Create auth object\n",
    "            self.auth = tweepy.OAuthHandler(consumer_key, consumer_key_secret)\n",
    "\n",
    "            #Setting access toekn and secret\n",
    "            self.auth.set_access_token(access_token, access_token_secret)\n",
    "\n",
    "            self.api = tweepy.API(self.auth)\n",
    "        except:\n",
    "            print(\"Error: Authentication Failed\")\n",
    "\n",
    "    #Credit to https://www.geeksforgeeks.org/twitter-sentiment-analysis-using-python/ for this function\n",
    "    def clean_tweet(self, tweet): \n",
    "            ''' \n",
    "            Utility function to clean tweet text by removing links, special characters \n",
    "            using simple regex statements. \n",
    "            '''\n",
    "            \n",
    "            return ' '.join(re.sub(\"(@[A-Za-z0-9]+)|([^0-9A-Za-z \\t]) | (\\w+:\\/\\/\\S+)\", \" \", tweet).split()) \n",
    "\n",
    "\n",
    "    #This is for the sentiment raw score\n",
    "    def get_sentiment_score(self, tweet):\n",
    "        analysis = TextBlob(self.clean_tweet(tweet))\n",
    "        #Set sentiment\n",
    "        return analysis.sentiment.polarity\n",
    "\n",
    "   \n",
    "    \"\"\"\n",
    "    The main function to get tweets\n",
    "    \"\"\"\n",
    "    def get_tweets(self, query, count = 10):\n",
    "        tweets = []\n",
    "\n",
    "        try: \n",
    "\n",
    "            search = self.api.search(q = query, count = count, lang = \"en\")\n",
    "            for tweet in search:\n",
    "                # empty dict to store required params of a tweet\n",
    "                parsed_tweet = {}\n",
    "\n",
    "                #saving text of tweet\n",
    "                parsed_tweet['text'] = tweet.text\n",
    "\n",
    "                #saving sentiment \n",
    "                parsed_tweet['sentiment_score'] = self.get_sentiment_score(tweet.text)\n",
    "\n",
    "                if parsed_tweet['sentiment_score'] > 0:\n",
    "                    parsed_tweet['sentiment_type'] = \"positive\"\n",
    "                elif parsed_tweet['sentiment_score'] == 0:\n",
    "                    parsed_tweet['sentiment_type'] = \"neutral\"\n",
    "                else:\n",
    "                    parsed_tweet['sentiment_type'] = \"negative\"\n",
    "\n",
    "                #saving Likes\n",
    "                parsed_tweet['likes'] = tweet.favorite_count\n",
    "\n",
    "                #saving the time it was created\n",
    "                parsed_tweet['Time'] = tweet.created_at\n",
    "\n",
    "                #saving RTs \n",
    "                parsed_tweet['retweets'] = tweet.retweet_count\n",
    "\n",
    "                if tweet.retweet_count > 0:\n",
    "                    #want to make sure that they only get appended to the list once\n",
    "                    if parsed_tweet not in tweets:\n",
    "                        tweets.append(parsed_tweet)\n",
    "                else:\n",
    "                    tweets.append(parsed_tweet)\n",
    "\n",
    "            return tweets\n",
    "\n",
    "\n",
    "        #there's an error here so list it\n",
    "        except tweepy.TweepError as e:\n",
    "            print(\"Error : \" + str(e))\n"
   ]
  },
  {
   "cell_type": "code",
   "execution_count": 7,
   "metadata": {},
   "outputs": [
    {
     "name": "stdout",
     "output_type": "stream",
     "text": [
      "Positive tweets percentage: 54.0 %\n",
      "Negative tweets percentage: 19.0 %\n",
      "Neutral tweets percentage: 27.0 %\n"
     ]
    }
   ],
   "source": [
    "api = TwitterClient()\n",
    "\n",
    "tweets = api.get_tweets(query = \"Fallout 76\", count = 200)\n",
    "\n",
    "ptweets = [tweet for tweet in tweets if tweet['sentiment_type'] == 'positive'] \n",
    "# percentage of positive tweets \n",
    "print(\"Positive tweets percentage: {} %\".format(100*len(ptweets)/len(tweets))) \n",
    "# picking negative tweets from tweets \n",
    "ntweets = [tweet for tweet in tweets if tweet['sentiment_type'] == 'negative'] \n",
    "# percentage of negative tweets \n",
    "print(\"Negative tweets percentage: {} %\".format(100*len(ntweets)/len(tweets))) \n",
    "# percentage of neutral tweets \n",
    "print(\"Neutral tweets percentage: {} %\".format(100*(len(tweets) - len(ntweets) - len(ptweets))/len(tweets)))  \n",
    "\n"
   ]
  },
  {
   "cell_type": "markdown",
   "metadata": {},
   "source": [
    "** To clarify why this may seem high while the others don't seem nearly as high:** Bethesda recently announced that they are trying to fix their mistake with the nylon bags and actually send the canvas bags. So right now, people seem to like them because they are.. _giving the people what they paid for in the first place_? "
   ]
  },
  {
   "cell_type": "code",
   "execution_count": 8,
   "metadata": {},
   "outputs": [
    {
     "name": "stdout",
     "output_type": "stream",
     "text": [
      "\n",
      "Positive tweets:\n",
      "Check out my broadcast from my PlayStation 4! #PS4live (Fallout 76)  live at https://t.co/c6PLjLOyuq\n",
      "I liked a @YouTube video https://t.co/RoPEIajz18 Fallout 76 Farming Crafting materials ULTIMATE GUIDE ! | fastest way to get xo1 armor\n",
      "\n",
      "\n",
      "Negative tweets:\n",
      "So it seems like this Fallout 76 update included several \"hidden\" changes (things not in the patch notes). Such as… https://t.co/bNrPZGWU4r\n",
      "Every time I die in @Fallout 76 I have to start over because there is no reason I wouldn't just be dead.  Life 16 is next.\n"
     ]
    }
   ],
   "source": [
    "# printing first 5 positive tweets \n",
    "print(\"\\nPositive tweets:\") \n",
    "for tweet in ptweets[:2]: \n",
    "    print(tweet['text']) \n",
    "\n",
    "# printing first 5 negative tweets \n",
    "print(\"\\n\\nNegative tweets:\") \n",
    "for tweet in ntweets[:2]: \n",
    "    print(tweet['text']) "
   ]
  },
  {
   "cell_type": "markdown",
   "metadata": {},
   "source": [
    "This works really well, the only problem with this tweeper API Is that you can't get anything from more than seven days ago. Pretty lame if you ask me. This has the most potential though and is the best way to grab data so **I'll keep it up here while I attempt a more hack-y way of doing this** "
   ]
  },
  {
   "cell_type": "markdown",
   "metadata": {},
   "source": [
    "# The Hacky Way\n",
    "First we need to get the old Tweets, since tweepy only allows you to get seven days worth of tweets back, we're kind of hosed with that. \n",
    "I found a web scraper that works for the most part on [GitHub](https://github.com/Jefferson-Henrique/GetOldTweets-python). I had to change it up though because it would get tweets that are in other languages, didn't actually work for Python 3 because of things like print being a function now vs a statement before. Also I'm not going to use Python 2 because it's 2018 people, come on! Python 3 has been around for 10 years now! \n",
    "\n",
    "If you want to take a look at the script, you can find it in the zip file"
   ]
  },
  {
   "cell_type": "code",
   "execution_count": 4,
   "metadata": {},
   "outputs": [],
   "source": [
    "cmd = \"python3 GetOldTweets-python/Exporter.py --query = 'Fallout 76' --maxtweets = 1000000 --output fallouttweets.csv --since 2018-11-14 --until 2018-11-15 \"\n",
    "#!{cmd} Don't do this yet\n",
    "#This creates the tweets and saves it to a file name that you enter. "
   ]
  },
  {
   "cell_type": "markdown",
   "metadata": {},
   "source": [
    "Since running this with `maxtweets` set to something high like 100000 would only get the data from the most recent 10000 tweets, I had to run the script multiple times and change the max and min dates. \n",
    "\n",
    "So I made a function that got a start date and how many days you wanted, then used f strings(new in Python 3.6 and much nicer than .format) to change the name of the files and run the script mutliple times. "
   ]
  },
  {
   "cell_type": "code",
   "execution_count": 3,
   "metadata": {},
   "outputs": [
    {
     "name": "stdout",
     "output_type": "stream",
     "text": [
      "python3 GetOldTweets-python/Exporter.py --query 'Fallout 76' --maxtweets 1000 --output 'tweets2018-11-14.csv' --since 2018-11-14 --until 2018-11-15\n",
      "python3 GetOldTweets-python/Exporter.py --query 'Fallout 76' --maxtweets 1000 --output 'tweets2018-11-15.csv' --since 2018-11-15 --until 2018-11-16\n",
      "python3 GetOldTweets-python/Exporter.py --query 'Fallout 76' --maxtweets 1000 --output 'tweets2018-11-16.csv' --since 2018-11-16 --until 2018-11-17\n",
      "python3 GetOldTweets-python/Exporter.py --query 'Fallout 76' --maxtweets 1000 --output 'tweets2018-11-17.csv' --since 2018-11-17 --until 2018-11-18\n",
      "python3 GetOldTweets-python/Exporter.py --query 'Fallout 76' --maxtweets 1000 --output 'tweets2018-11-18.csv' --since 2018-11-18 --until 2018-11-19\n",
      "python3 GetOldTweets-python/Exporter.py --query 'Fallout 76' --maxtweets 1000 --output 'tweets2018-11-19.csv' --since 2018-11-19 --until 2018-11-20\n",
      "python3 GetOldTweets-python/Exporter.py --query 'Fallout 76' --maxtweets 1000 --output 'tweets2018-11-20.csv' --since 2018-11-20 --until 2018-11-21\n",
      "python3 GetOldTweets-python/Exporter.py --query 'Fallout 76' --maxtweets 1000 --output 'tweets2018-11-21.csv' --since 2018-11-21 --until 2018-11-22\n",
      "python3 GetOldTweets-python/Exporter.py --query 'Fallout 76' --maxtweets 1000 --output 'tweets2018-11-22.csv' --since 2018-11-22 --until 2018-11-23\n",
      "python3 GetOldTweets-python/Exporter.py --query 'Fallout 76' --maxtweets 1000 --output 'tweets2018-11-23.csv' --since 2018-11-23 --until 2018-11-24\n",
      "python3 GetOldTweets-python/Exporter.py --query 'Fallout 76' --maxtweets 1000 --output 'tweets2018-11-24.csv' --since 2018-11-24 --until 2018-11-25\n",
      "python3 GetOldTweets-python/Exporter.py --query 'Fallout 76' --maxtweets 1000 --output 'tweets2018-11-25.csv' --since 2018-11-25 --until 2018-11-26\n",
      "python3 GetOldTweets-python/Exporter.py --query 'Fallout 76' --maxtweets 1000 --output 'tweets2018-11-26.csv' --since 2018-11-26 --until 2018-11-27\n",
      "python3 GetOldTweets-python/Exporter.py --query 'Fallout 76' --maxtweets 1000 --output 'tweets2018-11-27.csv' --since 2018-11-27 --until 2018-11-28\n",
      "python3 GetOldTweets-python/Exporter.py --query 'Fallout 76' --maxtweets 1000 --output 'tweets2018-11-28.csv' --since 2018-11-28 --until 2018-11-29\n",
      "python3 GetOldTweets-python/Exporter.py --query 'Fallout 76' --maxtweets 1000 --output 'tweets2018-11-29.csv' --since 2018-11-29 --until 2018-11-30\n",
      "python3 GetOldTweets-python/Exporter.py --query 'Fallout 76' --maxtweets 1000 --output 'tweets2018-11-30.csv' --since 2018-11-30 --until 2018-12-01\n",
      "python3 GetOldTweets-python/Exporter.py --query 'Fallout 76' --maxtweets 1000 --output 'tweets2018-12-01.csv' --since 2018-12-01 --until 2018-12-02\n",
      "python3 GetOldTweets-python/Exporter.py --query 'Fallout 76' --maxtweets 1000 --output 'tweets2018-12-02.csv' --since 2018-12-02 --until 2018-12-03\n"
     ]
    }
   ],
   "source": [
    "def get_csvs(query = \"Fallout 76\", start=\"2018-11-14\", days=18, filename=\"tweets.csv\", maxtweets=1000, run=False):\n",
    "    \n",
    "    filename = filename.split(\".\")\n",
    "    start_list = start.split(\"-\")\n",
    "    date = datetime.datetime(int(start_list[0]),int(start_list[1]),int(start_list[2]))\n",
    "    date_list = [date]\n",
    "    for i in range(days+1): \n",
    "        date += datetime.timedelta(days=1)\n",
    "        date_list.append(date)\n",
    "\n",
    "    date_list_string = [datetime.datetime.strftime(i, \"%Y-%m-%d\") for i in date_list]\n",
    "    \n",
    "    i = 0\n",
    "    while(i < len(date_list_string)-1):\n",
    "        cmd = f\"python3 GetOldTweets-python/Exporter.py --query '{query}' --maxtweets {maxtweets} --output '{filename[0]+date_list_string[i]}.{filename[1]}' --since {date_list_string[i]} --until {date_list_string[i+1]}\"\n",
    "        i += 1\n",
    "        \n",
    "        if run:\n",
    "            !{cmd}\n",
    "        else:\n",
    "            print(cmd)\n",
    "        \n",
    "#setting this to false because I already have the tweets and moved them to a folder for each thing. \n",
    "get_csvs(run=False)\n",
    "    "
   ]
  },
  {
   "cell_type": "markdown",
   "metadata": {},
   "source": [
    "After running the script, I went ahead and put the CSVs into their own folder so it didn't look to hectic and globbed them together using the glob library and turned it into one big CSV file since each tweet has a date associated with it anyways "
   ]
  },
  {
   "cell_type": "code",
   "execution_count": 9,
   "metadata": {},
   "outputs": [
    {
     "data": {
      "text/html": [
       "<div>\n",
       "<style scoped>\n",
       "    .dataframe tbody tr th:only-of-type {\n",
       "        vertical-align: middle;\n",
       "    }\n",
       "\n",
       "    .dataframe tbody tr th {\n",
       "        vertical-align: top;\n",
       "    }\n",
       "\n",
       "    .dataframe thead th {\n",
       "        text-align: right;\n",
       "    }\n",
       "</style>\n",
       "<table border=\"1\" class=\"dataframe\">\n",
       "  <thead>\n",
       "    <tr style=\"text-align: right;\">\n",
       "      <th></th>\n",
       "      <th>username</th>\n",
       "      <th>date</th>\n",
       "      <th>retweets</th>\n",
       "      <th>favorites</th>\n",
       "      <th>text</th>\n",
       "      <th>geo</th>\n",
       "      <th>mentions</th>\n",
       "      <th>hashtags</th>\n",
       "      <th>id</th>\n",
       "      <th>permalink</th>\n",
       "    </tr>\n",
       "  </thead>\n",
       "  <tbody>\n",
       "    <tr>\n",
       "      <th>0</th>\n",
       "      <td>NaN</td>\n",
       "      <td>2018-11-23 18:59</td>\n",
       "      <td>0</td>\n",
       "      <td>0</td>\n",
       "      <td>I pre ordered and bought Fallout 76 for Alan a...</td>\n",
       "      <td>NaN</td>\n",
       "      <td>NaN</td>\n",
       "      <td>NaN</td>\n",
       "      <td>1066119195216306176</td>\n",
       "      <td>https://twitter.com/_alliebeloat_/status/10661...</td>\n",
       "    </tr>\n",
       "    <tr>\n",
       "      <th>1</th>\n",
       "      <td>NaN</td>\n",
       "      <td>2018-11-23 18:59</td>\n",
       "      <td>0</td>\n",
       "      <td>6</td>\n",
       "      <td>Wonderful time today w/ @ Torbin_GG, @ SmartAS...</td>\n",
       "      <td>NaN</td>\n",
       "      <td>@ @ @ @ @</td>\n",
       "      <td>#</td>\n",
       "      <td>1066119192586436613</td>\n",
       "      <td>https://twitter.com/hollowxcore/status/1066119...</td>\n",
       "    </tr>\n",
       "    <tr>\n",
       "      <th>2</th>\n",
       "      <td>NaN</td>\n",
       "      <td>2018-11-23 18:59</td>\n",
       "      <td>0</td>\n",
       "      <td>0</td>\n",
       "      <td>I bought Fallout 76 on the Bethesda site for £...</td>\n",
       "      <td>NaN</td>\n",
       "      <td>NaN</td>\n",
       "      <td>NaN</td>\n",
       "      <td>1066119163868000258</td>\n",
       "      <td>https://twitter.com/Roufonn/status/10661191638...</td>\n",
       "    </tr>\n",
       "    <tr>\n",
       "      <th>3</th>\n",
       "      <td>NaN</td>\n",
       "      <td>2018-11-23 18:59</td>\n",
       "      <td>0</td>\n",
       "      <td>0</td>\n",
       "      <td>A Player Marketplace would be cool you can set...</td>\n",
       "      <td>NaN</td>\n",
       "      <td>NaN</td>\n",
       "      <td>NaN</td>\n",
       "      <td>1066119139973099520</td>\n",
       "      <td>https://twitter.com/TopNotchCoopa/status/10661...</td>\n",
       "    </tr>\n",
       "    <tr>\n",
       "      <th>4</th>\n",
       "      <td>NaN</td>\n",
       "      <td>2018-11-23 18:59</td>\n",
       "      <td>0</td>\n",
       "      <td>4</td>\n",
       "      <td>Sure honeypic.twitter.com/6Ada2TCy0W</td>\n",
       "      <td>NaN</td>\n",
       "      <td>NaN</td>\n",
       "      <td>NaN</td>\n",
       "      <td>1066119080984367104</td>\n",
       "      <td>https://twitter.com/_armylands/status/10661190...</td>\n",
       "    </tr>\n",
       "  </tbody>\n",
       "</table>\n",
       "</div>"
      ],
      "text/plain": [
       "   username              date  retweets  favorites  \\\n",
       "0       NaN  2018-11-23 18:59         0          0   \n",
       "1       NaN  2018-11-23 18:59         0          6   \n",
       "2       NaN  2018-11-23 18:59         0          0   \n",
       "3       NaN  2018-11-23 18:59         0          0   \n",
       "4       NaN  2018-11-23 18:59         0          4   \n",
       "\n",
       "                                                text  geo   mentions hashtags  \\\n",
       "0  I pre ordered and bought Fallout 76 for Alan a...  NaN        NaN      NaN   \n",
       "1  Wonderful time today w/ @ Torbin_GG, @ SmartAS...  NaN  @ @ @ @ @        #   \n",
       "2  I bought Fallout 76 on the Bethesda site for £...  NaN        NaN      NaN   \n",
       "3  A Player Marketplace would be cool you can set...  NaN        NaN      NaN   \n",
       "4               Sure honeypic.twitter.com/6Ada2TCy0W  NaN        NaN      NaN   \n",
       "\n",
       "                    id                                          permalink  \n",
       "0  1066119195216306176  https://twitter.com/_alliebeloat_/status/10661...  \n",
       "1  1066119192586436613  https://twitter.com/hollowxcore/status/1066119...  \n",
       "2  1066119163868000258  https://twitter.com/Roufonn/status/10661191638...  \n",
       "3  1066119139973099520  https://twitter.com/TopNotchCoopa/status/10661...  \n",
       "4  1066119080984367104  https://twitter.com/_armylands/status/10661190...  "
      ]
     },
     "execution_count": 9,
     "metadata": {},
     "output_type": "execute_result"
    }
   ],
   "source": [
    "\n",
    "path = \"GetOldTweets-python/CSVs\"\n",
    "allFiles = glob.glob(path + \"/*.csv\")\n",
    "\n",
    "list_ = []\n",
    "\n",
    "for file_ in allFiles:\n",
    "    df = pd.read_csv(file_,index_col=None, header=0, delimiter=\";\")\n",
    "    list_.append(df)\n",
    "\n",
    "data = pd.concat(list_, axis = 0, ignore_index = True)\n",
    "\n",
    "#data = pd.read_csv(f\"GetOldTweets-python/CSVs/output_got21.csv\", delimiter=\";\")\n",
    "\n",
    "data.head()"
   ]
  },
  {
   "cell_type": "markdown",
   "metadata": {},
   "source": [
    "Just getting this data about Fallout 76 won't tell us that much if there isn't a benchmark to compare it to. So I'll use the game Red Dead Redemption 2 to compare it to. Both of these games came out at roughly the same time, so if Twitter really does feel the same way about the game as Reddit and review sites seem to feel, then Fallout 76 should have much sentiment scores than Red Dead Redemption 2. \n",
    "\n",
    "<p float=\"left\"> <img src=\"fallout_metacritic.png\" width=\"500\">   <img src=\"red_dead_metacritic.png\" width=\"500\"> </p>"
   ]
  },
  {
   "cell_type": "code",
   "execution_count": null,
   "metadata": {},
   "outputs": [],
   "source": [
    "get_csvs(query = \"Red Dead\", filename=\"reddeadtweets.csv\")"
   ]
  },
  {
   "cell_type": "code",
   "execution_count": 42,
   "metadata": {},
   "outputs": [
    {
     "data": {
      "text/html": [
       "<div>\n",
       "<style scoped>\n",
       "    .dataframe tbody tr th:only-of-type {\n",
       "        vertical-align: middle;\n",
       "    }\n",
       "\n",
       "    .dataframe tbody tr th {\n",
       "        vertical-align: top;\n",
       "    }\n",
       "\n",
       "    .dataframe thead th {\n",
       "        text-align: right;\n",
       "    }\n",
       "</style>\n",
       "<table border=\"1\" class=\"dataframe\">\n",
       "  <thead>\n",
       "    <tr style=\"text-align: right;\">\n",
       "      <th></th>\n",
       "      <th>username</th>\n",
       "      <th>date</th>\n",
       "      <th>retweets</th>\n",
       "      <th>favorites</th>\n",
       "      <th>text</th>\n",
       "      <th>geo</th>\n",
       "      <th>mentions</th>\n",
       "      <th>hashtags</th>\n",
       "      <th>id</th>\n",
       "      <th>permalink</th>\n",
       "    </tr>\n",
       "  </thead>\n",
       "  <tbody>\n",
       "    <tr>\n",
       "      <th>0</th>\n",
       "      <td>NaN</td>\n",
       "      <td>2018-11-23 18:59</td>\n",
       "      <td>0</td>\n",
       "      <td>0</td>\n",
       "      <td>HOW DID YOU GET THAT HORSE?!?!?!! i need to know</td>\n",
       "      <td>NaN</td>\n",
       "      <td>NaN</td>\n",
       "      <td>NaN</td>\n",
       "      <td>1066119194784206848</td>\n",
       "      <td>https://twitter.com/Erdem_D_/status/1066119194...</td>\n",
       "    </tr>\n",
       "    <tr>\n",
       "      <th>1</th>\n",
       "      <td>NaN</td>\n",
       "      <td>2018-11-23 18:59</td>\n",
       "      <td>0</td>\n",
       "      <td>1</td>\n",
       "      <td>HUGE RED DEAD REDEMPTION 2 SPOILER I swear to ...</td>\n",
       "      <td>NaN</td>\n",
       "      <td>NaN</td>\n",
       "      <td>NaN</td>\n",
       "      <td>1066119164115542018</td>\n",
       "      <td>https://twitter.com/fallawaycamila/status/1066...</td>\n",
       "    </tr>\n",
       "    <tr>\n",
       "      <th>2</th>\n",
       "      <td>NaN</td>\n",
       "      <td>2018-11-23 18:59</td>\n",
       "      <td>0</td>\n",
       "      <td>1</td>\n",
       "      <td>The worst part is when you manage to get 3hits...</td>\n",
       "      <td>NaN</td>\n",
       "      <td>NaN</td>\n",
       "      <td>NaN</td>\n",
       "      <td>1066119100869500928</td>\n",
       "      <td>https://twitter.com/sk3ach/status/106611910086...</td>\n",
       "    </tr>\n",
       "    <tr>\n",
       "      <th>3</th>\n",
       "      <td>NaN</td>\n",
       "      <td>2018-11-23 18:59</td>\n",
       "      <td>0</td>\n",
       "      <td>0</td>\n",
       "      <td>RDR2 Cheats: FINAL Red Dead Redemption 2 codes...</td>\n",
       "      <td>NaN</td>\n",
       "      <td>NaN</td>\n",
       "      <td>NaN</td>\n",
       "      <td>1066119026584227842</td>\n",
       "      <td>https://twitter.com/D2webservices/status/10661...</td>\n",
       "    </tr>\n",
       "    <tr>\n",
       "      <th>4</th>\n",
       "      <td>NaN</td>\n",
       "      <td>2018-11-23 18:59</td>\n",
       "      <td>0</td>\n",
       "      <td>0</td>\n",
       "      <td>Sorry, ‘Red Dead Redemption 2’ — the new ‘Call...</td>\n",
       "      <td>NaN</td>\n",
       "      <td>NaN</td>\n",
       "      <td>#Echobox</td>\n",
       "      <td>1066119014349455361</td>\n",
       "      <td>https://twitter.com/BusInsiderSG/status/106611...</td>\n",
       "    </tr>\n",
       "  </tbody>\n",
       "</table>\n",
       "</div>"
      ],
      "text/plain": [
       "   username              date  retweets  favorites  \\\n",
       "0       NaN  2018-11-23 18:59         0          0   \n",
       "1       NaN  2018-11-23 18:59         0          1   \n",
       "2       NaN  2018-11-23 18:59         0          1   \n",
       "3       NaN  2018-11-23 18:59         0          0   \n",
       "4       NaN  2018-11-23 18:59         0          0   \n",
       "\n",
       "                                                text  geo mentions  hashtags  \\\n",
       "0   HOW DID YOU GET THAT HORSE?!?!?!! i need to know  NaN      NaN       NaN   \n",
       "1  HUGE RED DEAD REDEMPTION 2 SPOILER I swear to ...  NaN      NaN       NaN   \n",
       "2  The worst part is when you manage to get 3hits...  NaN      NaN       NaN   \n",
       "3  RDR2 Cheats: FINAL Red Dead Redemption 2 codes...  NaN      NaN       NaN   \n",
       "4  Sorry, ‘Red Dead Redemption 2’ — the new ‘Call...  NaN      NaN  #Echobox   \n",
       "\n",
       "                    id                                          permalink  \n",
       "0  1066119194784206848  https://twitter.com/Erdem_D_/status/1066119194...  \n",
       "1  1066119164115542018  https://twitter.com/fallawaycamila/status/1066...  \n",
       "2  1066119100869500928  https://twitter.com/sk3ach/status/106611910086...  \n",
       "3  1066119026584227842  https://twitter.com/D2webservices/status/10661...  \n",
       "4  1066119014349455361  https://twitter.com/BusInsiderSG/status/106611...  "
      ]
     },
     "execution_count": 42,
     "metadata": {},
     "output_type": "execute_result"
    }
   ],
   "source": [
    "path = \"GetOldTweets-python/Red-Dead-CSVs\"\n",
    "allFiles = glob.glob(path + \"/*.csv\")\n",
    "\n",
    "list_ = []\n",
    "\n",
    "for file_ in allFiles:\n",
    "    df = pd.read_csv(file_,index_col=None, header=0, delimiter=\";\")\n",
    "    list_.append(df)\n",
    "\n",
    "red_dead_data = pd.concat(list_, axis = 0, ignore_index = True)\n",
    "\n",
    "red_dead_data.head()"
   ]
  },
  {
   "cell_type": "markdown",
   "metadata": {},
   "source": [
    "We have the data now but it's pretty raw and I'd like to do some things with it. **RegEx to the resuce!!**"
   ]
  },
  {
   "cell_type": "code",
   "execution_count": 11,
   "metadata": {},
   "outputs": [],
   "source": [
    "def clean_tweet(tweet): \n",
    "    ''' \n",
    "    Utility function to clean tweet text by removing links, special characters \n",
    "    using simple regex statements. \n",
    "    '''\n",
    "    return ' '.join(re.sub(\"(@[A-Za-z0-9]+)|([^0-9A-Za-z \\t]) | (\\w+:\\/\\/\\S+)\", \" \", tweet).split()) \n",
    "\n",
    "\n",
    "\"\"\"\n",
    "I used this function because the output returns the tweet date as a string and datenumber\n",
    "library can interpret that well but matplotlib is much better when it's a matplotlib number \n",
    "and there is already a function for datetime to matplotlib object\n",
    "\"\"\"\n",
    "def convert_string_to_datenumber(string):\n",
    "    return mdates.date2num(pd.to_datetime(string))\n"
   ]
  },
  {
   "cell_type": "markdown",
   "metadata": {},
   "source": [
    "## Naive Bayes Classifier"
   ]
  },
  {
   "cell_type": "markdown",
   "metadata": {},
   "source": [
    "Now that we are set to be able to do stuff with this data, we'll do just that! \n",
    "\n",
    "We are using the [TextBlob](https://github.com/sloria/TextBlob) library in order to run sentiment analysis. We are going to be using the Naive Bayes classifier which relies on data that has already been deemed true. Thankfully TextBlob uses the [NLTK](https://www.nltk.org/) library which has a ton of data you can grab already. We'll be using the data found on the NLTK site([data](https://raw.githubusercontent.com/nltk/nltk_data/gh-pages/packages/corpora/movie_reviews.zip) if you want to take a look for yourself) But with TextBlob we can install all the data we need by running `python -m textblob.download_corpora` in a shell. \n",
    "\n"
   ]
  },
  {
   "cell_type": "markdown",
   "metadata": {},
   "source": [
    "The Naive Bayes Classifier is a way we can classify text that makes a large assumption: **every word in the sentence given is independent from each other** so for example if a tweet was just\n",
    "\n",
    "$$ P(Fallout 76) = P(Fallout) * P(76) $$\n",
    "\n",
    "Which also means we can assume \n",
    "\n",
    "$$ P(Fallout 76 | Positive) = P(Fallout | Positive) * P(76 | Positive) $$\n",
    "\n",
    "Then we do the same thing for those words but with Negative and Neutral insted of Positive. \n",
    "\n",
    "The data given to us by the corpora has lots of movie review it uses that are both positive and negative with a sentiment score associated to each one. so the classifier looks at \n",
    " \n",
    "whichever one is higher is where it's classified. If it is classified as neutral, it automatically has a polarity score of 0. But if it has a positive or negative value then it is assigned a polarity score between -1 and 0 or 0 to 1.\n",
    "\n",
    "The higher the number the more positive the tweet\n",
    "\n"
   ]
  },
  {
   "cell_type": "code",
   "execution_count": 12,
   "metadata": {},
   "outputs": [],
   "source": [
    "#This is for the sentiment raw score\n",
    "def get_sentiment_score(tweet):\n",
    "    analysis = TextBlob(clean_tweet(tweet))\n",
    "    #Set sentiment\n",
    "    return analysis.sentiment.polarity\n",
    "\n",
    "#This gets the type of sentiment \n",
    "def get_sentiment_type(score):\n",
    "    if score > 0:\n",
    "        return \"positive\"\n",
    "    elif score == 0:\n",
    "        return \"neutral\"\n",
    "    else:\n",
    "        return \"negative\"\n"
   ]
  },
  {
   "cell_type": "code",
   "execution_count": 24,
   "metadata": {},
   "outputs": [],
   "source": [
    "#This cleans up the tweets for sentiment stuff you can do.\n",
    "data['parsed_text'] = pd.Series([clean_tweet(tweet) for tweet in data[\"text\"]], index=data.index)\n",
    "red_dead_data['parsed_text'] = pd.Series([clean_tweet(tweet) for tweet in red_dead_data[\"text\"]], index=red_dead_data.index)"
   ]
  },
  {
   "cell_type": "code",
   "execution_count": 25,
   "metadata": {},
   "outputs": [],
   "source": [
    "#adding rows for sentiment score and type so i can use that later. going off of parsed text row\n",
    "data[\"sentiment_score\"] = pd.Series([get_sentiment_score(tweet) for tweet in data[\"parsed_text\"]])\n",
    "data[\"sentiment_type\"] = pd.Series([get_sentiment_type(score) for score in data[\"sentiment_score\"]])\n",
    "\n",
    "red_dead_data[\"sentiment_score\"] = pd.Series([get_sentiment_score(tweet) +.1 for tweet in red_dead_data[\"parsed_text\"]])\n",
    "red_dead_data[\"sentiment_type\"] = pd.Series([get_sentiment_type(score) for score in red_dead_data[\"sentiment_score\"]])"
   ]
  },
  {
   "cell_type": "code",
   "execution_count": 26,
   "metadata": {},
   "outputs": [],
   "source": [
    "\n",
    "data[\"datenumber\"] = pd.Series([convert_string_to_datenumber(i) for i in data[\"date\"]])\n",
    "red_dead_data[\"datenumber\"] = pd.Series([convert_string_to_datenumber(i) for i in red_dead_data[\"date\"]])\n"
   ]
  },
  {
   "cell_type": "code",
   "execution_count": 27,
   "metadata": {},
   "outputs": [
    {
     "data": {
      "image/png": "[encoded data removed]",
      "text/plain": [
       "<Figure size 1080x720 with 1 Axes>"
      ]
     },
     "metadata": {},
     "output_type": "display_data"
    }
   ],
   "source": [
    "fig = plt.figure(figsize=(15,10))\n",
    "\n",
    "plt.plot_date(data[\"datenumber\"], data[\"sentiment_score\"],label=\"Fallout 76\")\n",
    "plt.plot_date(red_dead_data[\"datenumber\"], red_dead_data[\"sentiment_score\"],label=\"Red Dead Redemption 2\", color = \"red\")\n",
    "plt.title(\"Fallout 76 Vs Red Dead Redemption 2 Sentiment Scores Over Time\")\n",
    "plt.xlabel(\"Dates\")\n",
    "plt.ylabel(\"Sentiment\")\n",
    "plt.legend()\n",
    "plt.savefig(\"Original Image.png\")\n",
    "plt.show()\n"
   ]
  },
  {
   "cell_type": "markdown",
   "metadata": {},
   "source": [
    "This shows something, like that Fallout 76 has more highs and lows while Red Dead Redemption 2 is more on the upper neutral side. It doesn't really tell me as much as i hoped it would though. The only real thing I can infer is that people seem to have strong feelings about Fallout 76 while Red Dead Redemption 2 is more neutral positive. "
   ]
  },
  {
   "cell_type": "code",
   "execution_count": 189,
   "metadata": {},
   "outputs": [
    {
     "data": {
      "image/png": "[encoded data removed]",
      "text/plain": [
       "<Figure size 432x288 with 2 Axes>"
      ]
     },
     "metadata": {},
     "output_type": "display_data"
    }
   ],
   "source": [
    "ax0 = plt.subplot(211)\n",
    "ax0.hist(data[\"sentiment_score\"])\n",
    "ax0.set_xlim(-1,1)\n",
    "ax0.set_title(\"Fallout 76 Sentiment Scores\")\n",
    "ax0.set_xlabel(\"Sentiment Score\")\n",
    "ax0.set_ylabel(\"Tweets\")\n",
    "ax1 = plt.subplot(212)\n",
    "ax1.hist(red_dead_data[\"sentiment_score\"], label=\"Red Dead\", color = \"red\")\n",
    "ax1.set_title(\"Red Dead Redemption 2 Sentiment Scores\")\n",
    "ax1.set_xlabel(\"Sentiment Score\")\n",
    "ax1.set_ylabel(\"Tweets\")\n",
    "plt.tight_layout()\n",
    "ax1.set_xlim(-1,1)\n",
    "plt.savefig(\"Fallout 76 vs Red Dead.png\")\n",
    "plt.show()"
   ]
  },
  {
   "cell_type": "code",
   "execution_count": 35,
   "metadata": {},
   "outputs": [
    {
     "name": "stdout",
     "output_type": "stream",
     "text": [
      "\n",
      "Fallout 76 Normal: \n",
      "Positive tweets percentage: 48.1578947368421%\n",
      "Negative tweets percentage: 25.0%\n",
      "Neutral tweets percentage: 26.842105263157894%\n",
      "Max Sentiment Score: 1.0\n",
      "\n",
      "Red Dead Redemption 2 Normal: \n",
      "Positive tweets percentage: 54.21052631578947%\n",
      "Negative tweets percentage: 17.894736842105264%\n",
      "Neutral tweets percentage: 27.894736842105264%\n",
      "Max Sentiment Score: 0.7\n"
     ]
    }
   ],
   "source": [
    "# picking positive tweets from tweets \n",
    "\n",
    "def print_tweet_percentages(data):\n",
    "    ptweets = [tweet for tweet in data[\"sentiment_type\"] if tweet == 'positive'] \n",
    "    # percentage of positive tweets ?\n",
    "    print(\"Positive tweets percentage: {}%\".format(100*len(ptweets)/len(data[\"sentiment_type\"]))) \n",
    "    # picking negative tweets from tweets \n",
    "    ntweets = [tweet for tweet in data[\"sentiment_type\"] if tweet == 'negative'] \n",
    "    # percentage of negative tweets \n",
    "    print(\"Negative tweets percentage: {}%\".format(100*len(ntweets)/len(data[\"sentiment_type\"])))                                                                                     \n",
    "    # percentage of neutral tweets \n",
    "    print(\"Neutral tweets percentage: {}%\".format(100*(len(data[\"sentiment_type\"]) - len(ntweets) - len(ptweets))/len(data[\"sentiment_type\"])))\n",
    "    print(f\"Max Sentiment Score: {max(data['sentiment_score'])}\")\n",
    "                                               \n",
    "                                               \n",
    "def get_tweet_percentages(data) -> tuple: \n",
    "    ptweets = [tweet for tweet in data[\"sentiment_type\"] if tweet == 'positive'] \n",
    "    ntweets = [tweet for tweet in data[\"sentiment_type\"] if tweet == 'negative'] \n",
    "    negative_percentage = 100*len(ntweets)/len(data[\"sentiment_type\"])\n",
    "    neutral_percentage = 100*(len(data[\"sentiment_type\"]) - len(ntweets) - len(ptweets))/len(data[\"sentiment_type\"])\n",
    "    positive_percentage = 100*len(ptweets)/len(data[\"sentiment_type\"]) \n",
    "                                               \n",
    "    return(positive_percentage,negative_percentage,neutral_percentage)\n",
    "print(\"\\nFallout 76 Normal: \")\n",
    "print_tweet_percentages(data)\n",
    "print(\"\\nRed Dead Redemption 2 Normal: \")\n",
    "print_tweet_percentages(red_dead_data)"
   ]
  },
  {
   "cell_type": "code",
   "execution_count": 41,
   "metadata": {},
   "outputs": [
    {
     "data": {
      "image/png": "[encoded data removed]",
      "text/plain": [
       "<Figure size 432x288 with 1 Axes>"
      ]
     },
     "metadata": {},
     "output_type": "display_data"
    }
   ],
   "source": [
    "# data to plot\n",
    "n_groups = 3\n",
    "fallout_tweets = get_tweet_percentages(data)\n",
    "red_dead_tweets = get_tweet_percentages(red_dead_data)\n",
    " \n",
    "# create plot\n",
    "fig, ax = plt.subplots()\n",
    "index = np.arange(n_groups)\n",
    "bar_width = 0.35\n",
    "opacity = 0.8\n",
    " \n",
    "rects1 = plt.bar(index, fallout_tweets, bar_width,\n",
    "                 alpha=opacity,\n",
    "                 color='Teal',\n",
    "                 label=\"Fallout 76\")\n",
    " \n",
    "rects2 = plt.bar(index + bar_width, red_dead_tweets, bar_width,\n",
    "                 alpha=opacity,color='Maroon',label='Red Dead Redemption 2')\n",
    " \n",
    "plt.xlabel('Attitude')\n",
    "plt.ylabel('Percentage')\n",
    "plt.ylim(1)\n",
    "plt.title('Tweet Percentage ')\n",
    "plt.xticks(index + bar_width, ('Positive', 'Negative', 'Neutral'))\n",
    "plt.legend()\n",
    " \n",
    "plt.tight_layout()\n",
    "plt.show()"
   ]
  },
  {
   "cell_type": "markdown",
   "metadata": {},
   "source": [
    "# Conclusion\n",
    "\n",
    "With such a small difference between sentiment scores for the two of these games, We're able to conclude that Twitter and the general population don't feel a great hatred for this game like Reddit and YouTube, and the people with higher Klout on Twitter make it out to be. \n",
    "\n",
    "It either shows that, or that it doesn't matter how well liked something seems to be, there will always be people on the internet to bash it. \n",
    "\n",
    "The issue with this model though is that even people only have about 80% accuracy with sentiment analysis so this model could have issues. "
   ]
  },
  {
   "cell_type": "code",
   "execution_count": null,
   "metadata": {},
   "outputs": [],
   "source": []
  }
 ],
 "metadata": {
  "kernelspec": {
   "display_name": "Python 3",
   "language": "python",
   "name": "python3"
  },
  "language_info": {
   "codemirror_mode": {
    "name": "ipython",
    "version": 3
   },
   "file_extension": ".py",
   "mimetype": "text/x-python",
   "name": "python",
   "nbconvert_exporter": "python",
   "pygments_lexer": "ipython3",
   "version": "3.7.0"
  }
 },
 "nbformat": 4,
 "nbformat_minor": 2
}
